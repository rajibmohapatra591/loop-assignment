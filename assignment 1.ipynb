{
 "cells": [
  {
   "cell_type": "code",
   "execution_count": null,
   "id": "31ef664a-982d-4136-a21b-0ff752a0075b",
   "metadata": {},
   "outputs": [],
   "source": [
    "# Some of number untill end"
   ]
  },
  {
   "cell_type": "code",
   "execution_count": 1,
   "id": "d246270f-b6d2-416f-b1cf-0d6fc18a704b",
   "metadata": {},
   "outputs": [
    {
     "name": "stdin",
     "output_type": "stream",
     "text": [
      "enter your number of element looking for 5\n"
     ]
    },
    {
     "name": "stdout",
     "output_type": "stream",
     "text": [
      "0\n",
      "1\n",
      "1\n",
      "2\n",
      "3\n"
     ]
    }
   ],
   "source": [
    "# Using while loop\n",
    "\n",
    "number = int(input(\"enter your number of element looking for\"))\n",
    "counter = 0\n",
    "a,b = 0,1\n",
    "             \n",
    "while counter < number :\n",
    "    print(a)\n",
    "    c = a+b\n",
    "    a = b\n",
    "    b = c\n",
    "    counter = counter + 1"
   ]
  },
  {
   "cell_type": "code",
   "execution_count": 2,
   "id": "1a6903cd-d00d-4a96-adff-5f8c003b402b",
   "metadata": {},
   "outputs": [
    {
     "name": "stdout",
     "output_type": "stream",
     "text": [
      "0\n",
      "1\n",
      "1\n",
      "2\n",
      "3\n"
     ]
    }
   ],
   "source": [
    "# Using for loop\n",
    "\n",
    "a,b = 0,1\n",
    "\n",
    "for i in range(5) :\n",
    "    print (a)\n",
    "    c = a+b\n",
    "    a = b\n",
    "    b = c\n",
    "    counter = counter + 1"
   ]
  },
  {
   "cell_type": "code",
   "execution_count": null,
   "id": "91401222-29c1-4155-b94e-d1f157fbe854",
   "metadata": {},
   "outputs": [],
   "source": [
    "# sum of the natural number"
   ]
  },
  {
   "cell_type": "code",
   "execution_count": 3,
   "id": "d14ddde2-1cfd-4fe2-9810-ec55a9d24ffd",
   "metadata": {},
   "outputs": [
    {
     "name": "stdin",
     "output_type": "stream",
     "text": [
      "enter your limit 10\n"
     ]
    },
    {
     "data": {
      "text/plain": [
       "55"
      ]
     },
     "execution_count": 3,
     "metadata": {},
     "output_type": "execute_result"
    }
   ],
   "source": [
    "# Using while loop\n",
    "\n",
    "number = int(input(\"enter your limit\"))\n",
    "starting_point = 0\n",
    "counter = 1\n",
    "\n",
    "while counter <= number :\n",
    "    starting_point = starting_point + counter\n",
    "    counter = counter + 1\n",
    "starting_point"
   ]
  },
  {
   "cell_type": "code",
   "execution_count": 4,
   "id": "fd3c14be-d2fc-4f2e-9f54-da2b393ac176",
   "metadata": {},
   "outputs": [
    {
     "name": "stdin",
     "output_type": "stream",
     "text": [
      " enter your limit  10\n"
     ]
    },
    {
     "data": {
      "text/plain": [
       "55"
      ]
     },
     "execution_count": 4,
     "metadata": {},
     "output_type": "execute_result"
    }
   ],
   "source": [
    "# Using for loop\n",
    "\n",
    "number = int(input(\" enter your limit \"))\n",
    "\n",
    "starting_point = 0\n",
    "\n",
    "for value in range(1, number + 1):\n",
    "    starting_point = starting_point + value\n",
    "    \n",
    "starting_point"
   ]
  },
  {
   "cell_type": "code",
   "execution_count": null,
   "id": "e9c3ad6b-0cbb-4501-9b65-43f3ae598391",
   "metadata": {},
   "outputs": [],
   "source": [
    "# Factorial series"
   ]
  },
  {
   "cell_type": "code",
   "execution_count": 5,
   "id": "d23a5942-8cfb-4beb-98ce-6b65f114524e",
   "metadata": {},
   "outputs": [
    {
     "name": "stdin",
     "output_type": "stream",
     "text": [
      "enter your number 10\n"
     ]
    },
    {
     "data": {
      "text/plain": [
       "3628800"
      ]
     },
     "execution_count": 5,
     "metadata": {},
     "output_type": "execute_result"
    }
   ],
   "source": [
    "# Using while loop\n",
    "\n",
    "num = int(input(\"enter your number\"))\n",
    "factorial = 1\n",
    "\n",
    "while num > 0 :\n",
    "    factorial = factorial * num\n",
    "    num = num - 1\n",
    "factorial"
   ]
  },
  {
   "cell_type": "code",
   "execution_count": 6,
   "id": "11f39c87-88b4-4410-8275-10326d44ed4d",
   "metadata": {},
   "outputs": [
    {
     "name": "stdin",
     "output_type": "stream",
     "text": [
      "enter your number 10\n"
     ]
    },
    {
     "data": {
      "text/plain": [
       "362880"
      ]
     },
     "execution_count": 6,
     "metadata": {},
     "output_type": "execute_result"
    }
   ],
   "source": [
    "# Using for loop\n",
    "\n",
    "num = int(input(\"enter your number\"))\n",
    "product = 1\n",
    "\n",
    "for i in range (1,10) :\n",
    "    product = product * i\n",
    "product"
   ]
  },
  {
   "cell_type": "code",
   "execution_count": 8,
   "id": "5cfbe687-1c96-4373-9222-ec299e680732",
   "metadata": {},
   "outputs": [
    {
     "name": "stdin",
     "output_type": "stream",
     "text": [
      " Enter the number of units consumed 310\n"
     ]
    },
    {
     "name": "stdout",
     "output_type": "stream",
     "text": [
      "The total electricity bill is Rs. 2250.0\n"
     ]
    }
   ],
   "source": [
    "# Taking number of units consumed\n",
    "\n",
    "units = int(input(\" Enter the number of units consumed\"))\n",
    "\n",
    "# intial electricity bill\n",
    "\n",
    "bill = 0\n",
    "\n",
    "#Checking the number of units and calculating the bill\n",
    "\n",
    "if units <=100:\n",
    "    bill = units * 4.5\n",
    "elif units  <= 200 :\n",
    "    bill = 100 * 4.5 + (units-100) * 6\n",
    "elif units <= 300 :\n",
    "    bill = 100 * 4.5 + 100 * 6 + (units-200) * 10\n",
    "\n",
    "else :\n",
    "    bill = 100 * 4.5 + 100 * 6 + 100 * 10 + (units-300) * 20\n",
    "    \n",
    "# Displaying the electricity bill\n",
    "print(\"The total electricity bill is Rs.\", bill)"
   ]
  },
  {
   "cell_type": "code",
   "execution_count": 9,
   "id": "dd1d432d-897a-4d05-8795-f7ca5ff656d9",
   "metadata": {},
   "outputs": [
    {
     "name": "stdout",
     "output_type": "stream",
     "text": [
      "[2, 4, 5, 6, 8, 10, 12, 14, 15, 16, 18, 20, 22, 24, 25, 26, 28, 30, 32, 34, 35, 36, 38, 40, 42, 44, 45, 46, 48, 50, 52, 54, 55, 56, 58, 60, 62, 64, 65, 66, 68, 70, 72, 74, 75, 76, 78, 80, 82, 84, 85, 86, 88, 90, 92, 94, 95, 96, 98]\n"
     ]
    }
   ],
   "source": [
    "# Using for loop\n",
    "\n",
    "num_list = list(range(1,100))\n",
    "cube_list = []\n",
    "\n",
    "for num in num_list :\n",
    "    cube = num ** 3\n",
    "    if cube % 4 == 0 or cube % 5 == 0 :\n",
    "        cube_list.append(num)\n",
    "print(cube_list)"
   ]
  },
  {
   "cell_type": "code",
   "execution_count": 10,
   "id": "4be1f589-3828-4793-92a7-2dd91e52949b",
   "metadata": {},
   "outputs": [
    {
     "name": "stdout",
     "output_type": "stream",
     "text": [
      "Using while loop:\n",
      "[2, 4, 5, 6, 8, 10, 12, 14, 15, 16, 18, 20, 22, 24, 25, 26, 28, 30, 32, 34, 35, 36, 38, 40, 42, 44, 45, 46, 48, 50, 52, 54, 55, 56, 58, 60, 62, 64, 65, 66, 68, 70, 72, 74, 75, 76, 78, 80, 82, 84, 85, 86, 88, 90, 92, 94, 95, 96, 98, 100]\n"
     ]
    }
   ],
   "source": [
    "num_list = list(range(1, 101))\n",
    "cube_list = []\n",
    "i = 0\n",
    "\n",
    "while i < len(num_list):\n",
    "    cube = num_list[i] ** 3\n",
    "    if cube % 4 == 0 or cube % 5 == 0:\n",
    "        cube_list.append(num_list[i])\n",
    "    i += 1\n",
    "\n",
    "print(\"Using while loop:\")\n",
    "print(cube_list)"
   ]
  },
  {
   "cell_type": "code",
   "execution_count": 18,
   "id": "81794cd8-9c82-461c-8c51-c516832fb953",
   "metadata": {},
   "outputs": [
    {
     "name": "stdout",
     "output_type": "stream",
     "text": [
      "The number of vowels in the s is 12\n"
     ]
    }
   ],
   "source": [
    "# Using for loop\n",
    "\n",
    "s = \"I want to become a data scientist\"\n",
    "vowels = \"aeiouAEIOU\"\n",
    "vowel_count = 0\n",
    "\n",
    "for char in s :\n",
    "    if char in vowels :\n",
    "        vowel_count += 1\n",
    "print(\"The number of vowels in the s is\",vowel_count)"
   ]
  },
  {
   "cell_type": "code",
   "execution_count": null,
   "id": "d0c9eeda-05d3-4947-832d-48ea4af38f3f",
   "metadata": {},
   "outputs": [],
   "source": []
  }
 ],
 "metadata": {
  "kernelspec": {
   "display_name": "Python 3 (ipykernel)",
   "language": "python",
   "name": "python3"
  },
  "language_info": {
   "codemirror_mode": {
    "name": "ipython",
    "version": 3
   },
   "file_extension": ".py",
   "mimetype": "text/x-python",
   "name": "python",
   "nbconvert_exporter": "python",
   "pygments_lexer": "ipython3",
   "version": "3.10.8"
  }
 },
 "nbformat": 4,
 "nbformat_minor": 5
}
